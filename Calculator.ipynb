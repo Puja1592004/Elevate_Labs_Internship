{
 "cells": [
  {
   "cell_type": "code",
   "execution_count": null,
   "id": "5f79dfbe-a11c-47e0-a579-499258135075",
   "metadata": {},
   "outputs": [
    {
     "name": "stdout",
     "output_type": "stream",
     "text": [
      "\n",
      "=== Calculator CLI ===\n",
      "1. Addition (+)\n",
      "2. Subtraction (-)\n",
      "3. Multiplication (*)\n",
      "4. Division (/)\n",
      "5. Exit\n"
     ]
    }
   ],
   "source": [
    "# calculator.py\n",
    "\n",
    "def add(a, b):\n",
    "    return a + b\n",
    "\n",
    "def subtract(a, b):\n",
    "    return a - b\n",
    "\n",
    "def multiply(a, b):\n",
    "    return a * b\n",
    "\n",
    "def divide(a, b):\n",
    "    try:\n",
    "        return a / b\n",
    "    except ZeroDivisionError:\n",
    "        return \"Error: Cannot divide by zero!\"\n",
    "\n",
    "def show_menu():\n",
    "    print(\"\\n=== Calculator CLI ===\")\n",
    "    print(\"1. Addition (+)\")\n",
    "    print(\"2. Subtraction (-)\")\n",
    "    print(\"3. Multiplication (*)\")\n",
    "    print(\"4. Division (/)\")\n",
    "    print(\"5. Exit\")\n",
    "\n",
    "def main():\n",
    "    while True:\n",
    "        show_menu()\n",
    "        choice = input(\"Enter your choice (1-5): \")\n",
    "\n",
    "        if choice == \"5\":\n",
    "            print(\"Exiting Calculator. Goodbye!\")\n",
    "            break\n",
    "\n",
    "        if choice not in [\"1\", \"2\", \"3\", \"4\"]:\n",
    "            print(\"Invalid choice. Please select again.\")\n",
    "            continue\n",
    "\n",
    "        try:\n",
    "            num1 = float(input(\"Enter first number: \"))\n",
    "            num2 = float(input(\"Enter second number: \"))\n",
    "        except ValueError:\n",
    "            print(\"Invalid input! Please enter numeric values.\")\n",
    "            continue\n",
    "\n",
    "        if choice == \"1\":\n",
    "            print(f\"Result: {add(num1, num2)}\")\n",
    "        elif choice == \"2\":\n",
    "            print(f\"Result: {subtract(num1, num2)}\")\n",
    "        elif choice == \"3\":\n",
    "            print(f\"Result: {multiply(num1, num2)}\")\n",
    "        elif choice == \"4\":\n",
    "            print(f\"Result: {divide(num1, num2)}\")\n",
    "\n",
    "if __name__ == \"__main__\":\n",
    "    main()\n"
   ]
  },
  {
   "cell_type": "code",
   "execution_count": null,
   "id": "ca2cd4f4-6ca9-4852-9ce4-5987e7ebb727",
   "metadata": {},
   "outputs": [],
   "source": []
  }
 ],
 "metadata": {
  "kernelspec": {
   "display_name": "Python 3 (ipykernel)",
   "language": "python",
   "name": "python3"
  },
  "language_info": {
   "codemirror_mode": {
    "name": "ipython",
    "version": 3
   },
   "file_extension": ".py",
   "mimetype": "text/x-python",
   "name": "python",
   "nbconvert_exporter": "python",
   "pygments_lexer": "ipython3",
   "version": "3.11.4"
  }
 },
 "nbformat": 4,
 "nbformat_minor": 5
}
