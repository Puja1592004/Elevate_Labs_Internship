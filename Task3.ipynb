{
 "cells": [
  {
   "cell_type": "code",
   "execution_count": null,
   "id": "c6b13e51-3397-4bfb-aa34-7b1b28544a43",
   "metadata": {},
   "outputs": [],
   "source": [
    "import requests\n",
    "from bs4 import BeautifulSoup\n",
    "\n",
    "# URL of the news website\n",
    "URL = \"https://www.bbc.com/news\"\n",
    "\n",
    "# Send GET request\n",
    "response = requests.get(URL)\n",
    "\n",
    "# Check if request was successful\n",
    "if response.status_code == 200:\n",
    "    soup = BeautifulSoup(response.text, \"html.parser\")\n",
    "\n",
    "    # Find all headlines (h2 tags with specific class)\n",
    "    headlines = soup.find_all(\"h2\")\n",
    "\n",
    "    # Store headlines text\n",
    "    headlines_list = [h.get_text(strip=True) for h in headlines if h.get_text(strip=True)]\n",
    "\n",
    "    # Save to a text file\n",
    "    with open(\"headlines.txt\", \"w\", encoding=\"utf-8\") as f:\n",
    "        for i, headline in enumerate(headlines_list, 1):\n",
    "            f.write(f\"{i}. {headline}\\n\")\n",
    "\n",
    "    print(\"✅ Headlines saved to headlines.txt\")\n",
    "else:\n",
    "    print(\"❌ Failed to fetch the webpage. Status code:\", response.status_code)\n",
    "\n"
   ]
  },
  {
   "cell_type": "code",
   "execution_count": null,
   "id": "b0b93e2d-909b-4a12-bbe6-20f2d28b00c8",
   "metadata": {},
   "outputs": [],
   "source": []
  }
 ],
 "metadata": {
  "kernelspec": {
   "display_name": "Python 3 (ipykernel)",
   "language": "python",
   "name": "python3"
  },
  "language_info": {
   "codemirror_mode": {
    "name": "ipython",
    "version": 3
   },
   "file_extension": ".py",
   "mimetype": "text/x-python",
   "name": "python",
   "nbconvert_exporter": "python",
   "pygments_lexer": "ipython3",
   "version": "3.11.4"
  }
 },
 "nbformat": 4,
 "nbformat_minor": 5
}
